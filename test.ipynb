{
 "cells": [
  {
   "cell_type": "code",
   "execution_count": 1,
   "metadata": {},
   "outputs": [
    {
     "name": "stdout",
     "output_type": "stream",
     "text": [
      "Token(type=<TokenType.STARTBLOCK: 19>, source_idx=2, value=None)\n",
      "Token(type=<TokenType.LET: 21>, source_idx=10, value=None)\n",
      "Token(type=<TokenType.IDENTIFIER: 3>, source_idx=12, value='x')\n",
      "Token(type=<TokenType.COLON: 4>, source_idx=13, value=None)\n",
      "Token(type=<TokenType.IDENTIFIER: 3>, source_idx=18, value='Real')\n",
      "Token(type=<TokenType.ASSIGN: 11>, source_idx=20, value=None)\n",
      "Token(type=<TokenType.NUMBER: 2>, source_idx=23, value='10')\n",
      "Token(type=<TokenType.BREAK: 1>, source_idx=24, value=None)\n",
      "Token(type=<TokenType.LET: 21>, source_idx=33, value=None)\n",
      "Token(type=<TokenType.IDENTIFIER: 3>, source_idx=35, value='y')\n",
      "Token(type=<TokenType.COLON: 4>, source_idx=36, value=None)\n",
      "Token(type=<TokenType.IDENTIFIER: 3>, source_idx=41, value='Real')\n",
      "Token(type=<TokenType.ASSIGN: 11>, source_idx=43, value=None)\n",
      "Token(type=<TokenType.STARTBLOCK: 19>, source_idx=45, value=None)\n",
      "Token(type=<TokenType.LET: 21>, source_idx=57, value=None)\n",
      "Token(type=<TokenType.IDENTIFIER: 3>, source_idx=59, value='z')\n",
      "Token(type=<TokenType.COLON: 4>, source_idx=60, value=None)\n",
      "Token(type=<TokenType.IDENTIFIER: 3>, source_idx=65, value='Real')\n",
      "Token(type=<TokenType.ASSIGN: 11>, source_idx=67, value=None)\n",
      "Token(type=<TokenType.NUMBER: 2>, source_idx=70, value='33')\n",
      "Token(type=<TokenType.BREAK: 1>, source_idx=71, value=None)\n",
      "Token(type=<TokenType.LET: 21>, source_idx=92, value=None)\n",
      "Token(type=<TokenType.IDENTIFIER: 3>, source_idx=94, value='a')\n",
      "Token(type=<TokenType.COLON: 4>, source_idx=95, value=None)\n",
      "Token(type=<TokenType.IDENTIFIER: 3>, source_idx=100, value='Real')\n",
      "Token(type=<TokenType.ASSIGN: 11>, source_idx=102, value=None)\n",
      "Token(type=<TokenType.IDENTIFIER: 3>, source_idx=107, value='Unit')\n",
      "Token(type=<TokenType.BREAK: 1>, source_idx=108, value=None)\n",
      "Token(type=<TokenType.IDENTIFIER: 3>, source_idx=127, value='z')\n",
      "Token(type=<TokenType.BREAK: 1>, source_idx=128, value=None)\n",
      "Token(type=<TokenType.ENDBLOCK: 20>, source_idx=134, value=None)\n",
      "Token(type=<TokenType.BREAK: 1>, source_idx=135, value=None)\n",
      "Token(type=<TokenType.NUMBER: 2>, source_idx=145, value='12.5')\n",
      "Token(type=<TokenType.BREAK: 1>, source_idx=146, value=None)\n",
      "Token(type=<TokenType.IDENTIFIER: 3>, source_idx=154, value='x')\n",
      "Token(type=<TokenType.BREAK: 1>, source_idx=155, value=None)\n",
      "Token(type=<TokenType.LET: 21>, source_idx=168, value=None)\n",
      "Token(type=<TokenType.IDENTIFIER: 3>, source_idx=170, value='u')\n",
      "Token(type=<TokenType.COLON: 4>, source_idx=171, value=None)\n",
      "Token(type=<TokenType.IDENTIFIER: 3>, source_idx=176, value='Unit')\n",
      "Token(type=<TokenType.ASSIGN: 11>, source_idx=178, value=None)\n",
      "Token(type=<TokenType.IDENTIFIER: 3>, source_idx=183, value='Unit')\n",
      "Token(type=<TokenType.BREAK: 1>, source_idx=184, value=None)\n",
      "Token(type=<TokenType.IDENTIFIER: 3>, source_idx=195, value='y')\n",
      "Token(type=<TokenType.BREAK: 1>, source_idx=196, value=None)\n",
      "Token(type=<TokenType.ENDBLOCK: 20>, source_idx=198, value=None)\n",
      "\n",
      "SyntaxTree(expression=Expression(terms=[Block(statements=[Binding(identifier=Identifier(name='x'), type=Type(identifier=Identifier(name='Real'), type_parameters=[]), expression=Expression(terms=[Real(value=10.0)])), Binding(identifier=Identifier(name='y'), type=Type(identifier=Identifier(name='Real'), type_parameters=[]), expression=Expression(terms=[Block(statements=[Binding(identifier=Identifier(name='z'), type=Type(identifier=Identifier(name='Real'), type_parameters=[]), expression=Expression(terms=[Real(value=33.0)])), Binding(identifier=Identifier(name='a'), type=Type(identifier=Identifier(name='Real'), type_parameters=[]), expression=Expression(terms=[Identifier(name='Unit')])), Expression(terms=[Identifier(name='z')])])])), Expression(terms=[Real(value=12.5)]), Expression(terms=[Identifier(name='x')]), Binding(identifier=Identifier(name='u'), type=Type(identifier=Identifier(name='Unit'), type_parameters=[]), expression=Expression(terms=[Identifier(name='Unit')])), Expression(terms=[Identifier(name='y')])])]))\n",
      "-----------------------------\n",
      "\n"
     ]
    },
    {
     "ename": "AttributeError",
     "evalue": "'Expression' object has no attribute 'value'",
     "output_type": "error",
     "traceback": [
      "\u001b[0;31m---------------------------------------------------------------------------\u001b[0m",
      "\u001b[0;31mAttributeError\u001b[0m                            Traceback (most recent call last)",
      "Cell \u001b[0;32mIn [1], line 36\u001b[0m\n\u001b[1;32m     33\u001b[0m \u001b[38;5;28mprint\u001b[39m(tree)\n\u001b[1;32m     35\u001b[0m \u001b[38;5;28mprint\u001b[39m(\u001b[38;5;124m\"\u001b[39m\u001b[38;5;124m-----------------------------\u001b[39m\u001b[38;5;130;01m\\n\u001b[39;00m\u001b[38;5;124m\"\u001b[39m)\n\u001b[0;32m---> 36\u001b[0m \u001b[43minterpret\u001b[49m\u001b[43m(\u001b[49m\u001b[43mtree\u001b[49m\u001b[43m)\u001b[49m\n",
      "File \u001b[0;32m~/active/sageleaf/sageleaf/interpreter.py:41\u001b[0m, in \u001b[0;36minterpret\u001b[0;34m(tree)\u001b[0m\n\u001b[1;32m     <a href='file:///home/lemonade/active/sageleaf/sageleaf/interpreter.py?line=38'>39</a>\u001b[0m \u001b[39mdef\u001b[39;00m \u001b[39minterpret\u001b[39m(tree: p\u001b[39m.\u001b[39mSyntaxTree) \u001b[39m-\u001b[39m\u001b[39m>\u001b[39m \u001b[39mNone\u001b[39;00m:\n\u001b[1;32m     <a href='file:///home/lemonade/active/sageleaf/sageleaf/interpreter.py?line=39'>40</a>\u001b[0m     environment \u001b[39m=\u001b[39m RuntimeEnvironment(BASE_TYPES, BASE_BINDINGS)\n\u001b[0;32m---> <a href='file:///home/lemonade/active/sageleaf/sageleaf/interpreter.py?line=40'>41</a>\u001b[0m     value \u001b[39m=\u001b[39m evaluate_expression(environment, tree\u001b[39m.\u001b[39;49mexpression)\n\u001b[1;32m     <a href='file:///home/lemonade/active/sageleaf/sageleaf/interpreter.py?line=41'>42</a>\u001b[0m     \u001b[39mprint\u001b[39m(value)\n",
      "File \u001b[0;32m~/active/sageleaf/sageleaf/interpreter.py:59\u001b[0m, in \u001b[0;36mevaluate_expression\u001b[0;34m(environment, expression)\u001b[0m\n\u001b[1;32m     <a href='file:///home/lemonade/active/sageleaf/sageleaf/interpreter.py?line=56'>57</a>\u001b[0m \u001b[39mdef\u001b[39;00m \u001b[39mevaluate_expression\u001b[39m(environment: RuntimeEnvironment,\n\u001b[1;32m     <a href='file:///home/lemonade/active/sageleaf/sageleaf/interpreter.py?line=57'>58</a>\u001b[0m                         expression: p\u001b[39m.\u001b[39mExpression) \u001b[39m-\u001b[39m\u001b[39m>\u001b[39m Value:\n\u001b[0;32m---> <a href='file:///home/lemonade/active/sageleaf/sageleaf/interpreter.py?line=58'>59</a>\u001b[0m     \u001b[39mif\u001b[39;00m \u001b[39misinstance\u001b[39m(expression\u001b[39m.\u001b[39;49mvalue, p\u001b[39m.\u001b[39mReal):\n\u001b[1;32m     <a href='file:///home/lemonade/active/sageleaf/sageleaf/interpreter.py?line=59'>60</a>\u001b[0m         \u001b[39mreturn\u001b[39;00m Value(BASE_TYPES[\u001b[39m\"\u001b[39m\u001b[39mReal\u001b[39m\u001b[39m\"\u001b[39m], expression\u001b[39m.\u001b[39mvalue\u001b[39m.\u001b[39mvalue)\n\u001b[1;32m     <a href='file:///home/lemonade/active/sageleaf/sageleaf/interpreter.py?line=60'>61</a>\u001b[0m     \u001b[39melif\u001b[39;00m \u001b[39misinstance\u001b[39m(expression\u001b[39m.\u001b[39mvalue, p\u001b[39m.\u001b[39mIdentifier):\n",
      "\u001b[0;31mAttributeError\u001b[0m: 'Expression' object has no attribute 'value'"
     ]
    }
   ],
   "source": [
    "from sageleaf.lexer import lex\n",
    "from sageleaf.parser import parse\n",
    "from sageleaf.interpreter import interpret\n",
    "\n",
    "# tokens = lex(\"\"\"\n",
    "# {\n",
    "#     let x: Real = 10;\n",
    "\n",
    "#     let y: Real = {\n",
    "#         let z: Real = 33;\n",
    "        \n",
    "#         let a: Real = Unit;\n",
    "        \n",
    "#         z;\n",
    "#     };\n",
    "\n",
    "#     12.5; \n",
    "\n",
    "#     x;\n",
    "    \n",
    "#     let u: Unit = Unit;\n",
    "    \n",
    "#     y;\n",
    "# }\n",
    "# \"\"\")\n",
    "\n",
    "tokens = lex(\"\"\"\n",
    "{\n",
    "    add 5 6;\n",
    "}\n",
    "\"\"\")\n",
    "\n",
    "for token in tokens:\n",
    "    print(token)\n",
    "\n",
    "print()\n",
    "tree = parse(tokens)\n",
    "\n",
    "print(tree)\n",
    "\n",
    "print(\"-----------------------------\\n\")\n",
    "interpret(tree)"
   ]
  }
 ],
 "metadata": {
  "kernelspec": {
   "display_name": "Python 3.10.6 ('venv': venv)",
   "language": "python",
   "name": "python3"
  },
  "language_info": {
   "codemirror_mode": {
    "name": "ipython",
    "version": 3
   },
   "file_extension": ".py",
   "mimetype": "text/x-python",
   "name": "python",
   "nbconvert_exporter": "python",
   "pygments_lexer": "ipython3",
   "version": "3.10.6"
  },
  "orig_nbformat": 4,
  "vscode": {
   "interpreter": {
    "hash": "7573d1c4f6888ca9b4420e81076c50dfa963b84cb78208afa273618f0b1b92e3"
   }
  }
 },
 "nbformat": 4,
 "nbformat_minor": 2
}
