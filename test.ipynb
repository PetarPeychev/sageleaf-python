{
 "cells": [
  {
   "cell_type": "code",
   "execution_count": 9,
   "metadata": {},
   "outputs": [
    {
     "name": "stdout",
     "output_type": "stream",
     "text": [
      "Token(type=<TokenType.STARTBLOCK: 19>, source_idx=2, value=None)\n",
      "Token(type=<TokenType.LET: 21>, source_idx=10, value=None)\n",
      "Token(type=<TokenType.IDENTIFIER: 3>, source_idx=12, value='x')\n",
      "Token(type=<TokenType.COLON: 4>, source_idx=13, value=None)\n",
      "Token(type=<TokenType.IDENTIFIER: 3>, source_idx=18, value='Real')\n",
      "Token(type=<TokenType.ASSIGN: 11>, source_idx=20, value=None)\n",
      "Token(type=<TokenType.NUMBER: 2>, source_idx=23, value='10')\n",
      "Token(type=<TokenType.BREAK: 1>, source_idx=24, value=None)\n",
      "Token(type=<TokenType.LET: 21>, source_idx=33, value=None)\n",
      "Token(type=<TokenType.IDENTIFIER: 3>, source_idx=35, value='y')\n",
      "Token(type=<TokenType.COLON: 4>, source_idx=36, value=None)\n",
      "Token(type=<TokenType.IDENTIFIER: 3>, source_idx=41, value='Real')\n",
      "Token(type=<TokenType.ASSIGN: 11>, source_idx=43, value=None)\n",
      "Token(type=<TokenType.STARTBLOCK: 19>, source_idx=45, value=None)\n",
      "Token(type=<TokenType.LET: 21>, source_idx=57, value=None)\n",
      "Token(type=<TokenType.IDENTIFIER: 3>, source_idx=59, value='z')\n",
      "Token(type=<TokenType.COLON: 4>, source_idx=60, value=None)\n",
      "Token(type=<TokenType.IDENTIFIER: 3>, source_idx=65, value='Real')\n",
      "Token(type=<TokenType.ASSIGN: 11>, source_idx=67, value=None)\n",
      "Token(type=<TokenType.NUMBER: 2>, source_idx=70, value='33')\n",
      "Token(type=<TokenType.BREAK: 1>, source_idx=71, value=None)\n",
      "Token(type=<TokenType.IDENTIFIER: 3>, source_idx=90, value='z')\n",
      "Token(type=<TokenType.BREAK: 1>, source_idx=91, value=None)\n",
      "Token(type=<TokenType.ENDBLOCK: 20>, source_idx=97, value=None)\n",
      "Token(type=<TokenType.BREAK: 1>, source_idx=98, value=None)\n",
      "Token(type=<TokenType.NUMBER: 2>, source_idx=108, value='12.5')\n",
      "Token(type=<TokenType.BREAK: 1>, source_idx=109, value=None)\n",
      "Token(type=<TokenType.IDENTIFIER: 3>, source_idx=117, value='x')\n",
      "Token(type=<TokenType.BREAK: 1>, source_idx=118, value=None)\n",
      "Token(type=<TokenType.IDENTIFIER: 3>, source_idx=129, value='y')\n",
      "Token(type=<TokenType.BREAK: 1>, source_idx=130, value=None)\n",
      "Token(type=<TokenType.ENDBLOCK: 20>, source_idx=132, value=None)\n",
      "\n",
      "SyntaxTree(expression=Expression(value=Block(statements=[Binding(identifier=Identifier(name='x'), type=Type(identifier=Identifier(name='Real'), type_parameters=[]), expression=Expression(value=Real(value=10.0))), Binding(identifier=Identifier(name='y'), type=Type(identifier=Identifier(name='Real'), type_parameters=[]), expression=Expression(value=Block(statements=[Binding(identifier=Identifier(name='z'), type=Type(identifier=Identifier(name='Real'), type_parameters=[]), expression=Expression(value=Real(value=33.0))), Expression(value=Identifier(name='z'))]))), Expression(value=Real(value=12.5)), Expression(value=Identifier(name='x')), Expression(value=Identifier(name='y'))])))\n",
      "-----------------------------\n",
      "\n",
      "Real(value=33.0)\n"
     ]
    }
   ],
   "source": [
    "from sageleaf.lexer import lex\n",
    "from sageleaf.parser import parse\n",
    "from sageleaf.interpreter import interpret\n",
    "\n",
    "tokens = lex(\"\"\"\n",
    "{\n",
    "    let x: Real = 10;\n",
    "\n",
    "    let y: Real = {\n",
    "        let z: Real = 33;\n",
    "        \n",
    "        z;\n",
    "    };\n",
    "\n",
    "    12.5; \n",
    "\n",
    "    x;\n",
    "    \n",
    "    y;\n",
    "}\n",
    "\"\"\")\n",
    "\n",
    "# for token in tokens:\n",
    "#     print(token)\n",
    "\n",
    "# print()\n",
    "tree = parse(tokens)\n",
    "\n",
    "# print(tree)\n",
    "\n",
    "# print(\"-----------------------------\\n\")\n",
    "interpret(tree)"
   ]
  }
 ],
 "metadata": {
  "kernelspec": {
   "display_name": "Python 3.10.6 ('venv': venv)",
   "language": "python",
   "name": "python3"
  },
  "language_info": {
   "codemirror_mode": {
    "name": "ipython",
    "version": 3
   },
   "file_extension": ".py",
   "mimetype": "text/x-python",
   "name": "python",
   "nbconvert_exporter": "python",
   "pygments_lexer": "ipython3",
   "version": "3.10.6"
  },
  "orig_nbformat": 4,
  "vscode": {
   "interpreter": {
    "hash": "7573d1c4f6888ca9b4420e81076c50dfa963b84cb78208afa273618f0b1b92e3"
   }
  }
 },
 "nbformat": 4,
 "nbformat_minor": 2
}
