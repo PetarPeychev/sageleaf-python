{
 "cells": [
  {
   "cell_type": "code",
   "execution_count": 3,
   "metadata": {},
   "outputs": [
    {
     "name": "stdout",
     "output_type": "stream",
     "text": [
      "Prog(stmnts=[Imp(path=TT.ID(../../math/algebra)), Def(idf='x', expr=Appl(expr1=Appl(expr1='add', expr2=1.0), expr2=5.0)), Def(idf='increment', expr=Appl(expr1='add', expr2=1.0)), Def(idf='y', expr=Appl(expr1=Appl(expr1='add', expr2=1.0), expr2=Appl(expr1=Appl(expr1='add', expr2=3.0), expr2=4.0)))])\n"
     ]
    }
   ],
   "source": [
    "from sageleaf.syntax import Lexer\n",
    "from sageleaf.semantics import Parser\n",
    "\n",
    "code = \"\"\"\n",
    "import ../../math/algebra;\n",
    "\n",
    "def x as add 1 5;\n",
    "\n",
    "def increment as add 1;\n",
    "\n",
    "def y as add 1 (add 3 4);\n",
    "\"\"\"\n",
    "\n",
    "lexer = Lexer(code)\n",
    "\n",
    "tokens = lexer.lex()\n",
    "\n",
    "# for token in tokens:\n",
    "#   print(token)\n",
    "# print()\n",
    "\n",
    "parser = Parser(tokens)\n",
    "\n",
    "prog = parser.parse()\n",
    "\n",
    "print(prog)"
   ]
  }
 ],
 "metadata": {
  "kernelspec": {
   "display_name": "Python 3.10.6 ('venv': venv)",
   "language": "python",
   "name": "python3"
  },
  "language_info": {
   "codemirror_mode": {
    "name": "ipython",
    "version": 3
   },
   "file_extension": ".py",
   "mimetype": "text/x-python",
   "name": "python",
   "nbconvert_exporter": "python",
   "pygments_lexer": "ipython3",
   "version": "3.10.6"
  },
  "orig_nbformat": 4,
  "vscode": {
   "interpreter": {
    "hash": "7573d1c4f6888ca9b4420e81076c50dfa963b84cb78208afa273618f0b1b92e3"
   }
  }
 },
 "nbformat": 4,
 "nbformat_minor": 2
}
