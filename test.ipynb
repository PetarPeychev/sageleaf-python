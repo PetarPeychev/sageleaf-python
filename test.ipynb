{
 "cells": [
  {
   "cell_type": "code",
   "execution_count": 3,
   "metadata": {},
   "outputs": [
    {
     "name": "stdout",
     "output_type": "stream",
     "text": [
      "12.5\n",
      "10.0\n",
      "\n",
      "Runtime Execution Environment:\n",
      "RuntimeEnvironment(types={'Real': <class 'float'>}, bindings={'x': 10.0})\n"
     ]
    }
   ],
   "source": [
    "from sageleaf.lexer import lex\n",
    "from sageleaf.parser import parse\n",
    "from sageleaf.interpreter import interpret\n",
    "\n",
    "tokens = lex(\"\"\"\n",
    "\n",
    "let x: Real = 10;\n",
    "\n",
    "12.5; \n",
    "\n",
    "x;\n",
    "\n",
    "\"\"\")\n",
    "\n",
    "# for token in tokens:\n",
    "#     print(token)\n",
    "\n",
    "# print()\n",
    "tree = parse(tokens)\n",
    "\n",
    "# for statement in tree.statements:\n",
    "#     print(statement)\n",
    "#     print()\n",
    "\n",
    "# print(\"-----------------------------\\n\")\n",
    "interpret(tree)"
   ]
  }
 ],
 "metadata": {
  "interpreter": {
   "hash": "26291036ec9c2ba1e3155a627f8c084dbadd1380e2a589dd62205c9739821db8"
  },
  "kernelspec": {
   "display_name": "Python 3.10.6 ('venv': venv)",
   "language": "python",
   "name": "python3"
  },
  "language_info": {
   "codemirror_mode": {
    "name": "ipython",
    "version": 3
   },
   "file_extension": ".py",
   "mimetype": "text/x-python",
   "name": "python",
   "nbconvert_exporter": "python",
   "pygments_lexer": "ipython3",
   "version": "3.10.6"
  },
  "orig_nbformat": 4
 },
 "nbformat": 4,
 "nbformat_minor": 2
}
