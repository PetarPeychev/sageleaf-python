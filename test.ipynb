{
 "cells": [
  {
   "cell_type": "code",
   "execution_count": 2,
   "metadata": {},
   "outputs": [
    {
     "name": "stdout",
     "output_type": "stream",
     "text": [
      "Token(type=<TokenType.STARTBLOCK: 19>, source_idx=2, value=None)\n",
      "Token(type=<TokenType.LET: 21>, source_idx=10, value=None)\n",
      "Token(type=<TokenType.IDENTIFIER: 3>, source_idx=20, value='increment')\n",
      "Token(type=<TokenType.COLON: 4>, source_idx=21, value=None)\n",
      "Token(type=<TokenType.IDENTIFIER: 3>, source_idx=26, value='Real')\n",
      "Token(type=<TokenType.ARROW: 5>, source_idx=29, value=None)\n",
      "Token(type=<TokenType.IDENTIFIER: 3>, source_idx=34, value='Real')\n",
      "Token(type=<TokenType.ASSIGN: 11>, source_idx=36, value=None)\n",
      "Token(type=<TokenType.IDENTIFIER: 3>, source_idx=40, value='add')\n",
      "Token(type=<TokenType.NUMBER: 2>, source_idx=42, value='1')\n",
      "Token(type=<TokenType.BREAK: 1>, source_idx=43, value=None)\n",
      "Token(type=<TokenType.IDENTIFIER: 3>, source_idx=62, value='increment')\n",
      "Token(type=<TokenType.BREAK: 1>, source_idx=63, value=None)\n",
      "Token(type=<TokenType.IDENTIFIER: 3>, source_idx=76, value='add')\n",
      "Token(type=<TokenType.BREAK: 1>, source_idx=77, value=None)\n",
      "Token(type=<TokenType.ENDBLOCK: 20>, source_idx=79, value=None)\n",
      "\n",
      "SyntaxTree(expression=Expression(terms=[Block(statements=[Binding(identifier=Identifier(name='increment'), type=FunctionType(input_type=PrimitiveType(identifier=Identifier(name='Real'), type_parameters=[]), output_type=PrimitiveType(identifier=Identifier(name='Real'), type_parameters=[])), expression=Expression(terms=[Identifier(name='add'), Real(value=1.0)])), Expression(terms=[Identifier(name='increment')]), Expression(terms=[Identifier(name='add')])])]))\n",
      "-----------------------------\n",
      "\n",
      "\\Real -> Real -> Real :: Real -> (Real -> Real)\n"
     ]
    }
   ],
   "source": [
    "from sageleaf.lexer import lex\n",
    "from sageleaf.parser import parse\n",
    "from sageleaf.interpreter import interpret\n",
    "\n",
    "# tokens = lex(\"\"\"\n",
    "# {\n",
    "#     let x: Real = 10;\n",
    "\n",
    "#     let y: Real = {\n",
    "#         let z: Real = 33;\n",
    "        \n",
    "#         let a: Unit = Unit;\n",
    "        \n",
    "#         z;\n",
    "#     };\n",
    "\n",
    "#     12.5; \n",
    "\n",
    "#     x;\n",
    "    \n",
    "#     let u: Unit = Unit;\n",
    "    \n",
    "#     y;\n",
    "    \n",
    "#     add 5 6;\n",
    "    \n",
    "#     add 1;\n",
    "# }\n",
    "# \"\"\")\n",
    "\n",
    "tokens = lex(\"\"\"\n",
    "{\n",
    "    let increment: Real -> Real = add 1;\n",
    "    \n",
    "    increment;\n",
    "    \n",
    "    add;\n",
    "}\n",
    "\"\"\")\n",
    "\n",
    "# for token in tokens:\n",
    "#     print(token)\n",
    "\n",
    "# print()\n",
    "tree = parse(tokens)\n",
    "\n",
    "# print(tree)\n",
    "\n",
    "# print(\"-----------------------------\\n\")\n",
    "interpret(tree)"
   ]
  }
 ],
 "metadata": {
  "kernelspec": {
   "display_name": "Python 3.10.6 ('venv': venv)",
   "language": "python",
   "name": "python3"
  },
  "language_info": {
   "codemirror_mode": {
    "name": "ipython",
    "version": 3
   },
   "file_extension": ".py",
   "mimetype": "text/x-python",
   "name": "python",
   "nbconvert_exporter": "python",
   "pygments_lexer": "ipython3",
   "version": "3.10.6"
  },
  "orig_nbformat": 4,
  "vscode": {
   "interpreter": {
    "hash": "7573d1c4f6888ca9b4420e81076c50dfa963b84cb78208afa273618f0b1b92e3"
   }
  }
 },
 "nbformat": 4,
 "nbformat_minor": 2
}
