{
 "cells": [
  {
   "cell_type": "code",
   "execution_count": 1,
   "metadata": {},
   "outputs": [
    {
     "name": "stdout",
     "output_type": "stream",
     "text": [
      "TT.REQUIRE(require)\n",
      "TT.STRING(\"sage.math\")\n",
      "TT.SEMICOLON(;)\n",
      "TT.DEF(define)\n",
      "TT.ID(not)\n",
      "TT.AS(as)\n",
      "TT.LCURLY({)\n",
      "TT.ID(True)\n",
      "TT.ARROW(->)\n",
      "TT.ID(False)\n",
      "TT.COMMA(,)\n",
      "TT.ID(False)\n",
      "TT.ARROW(->)\n",
      "TT.ID(True)\n",
      "TT.COMMA(,)\n",
      "TT.ID(any)\n",
      "TT.ID(x)\n",
      "TT.ID(where)\n",
      "TT.ID(int?)\n",
      "TT.ID(x)\n",
      "TT.ARROW(->)\n",
      "TT.ID(error)\n",
      "TT.STRING(\"Integer is not valid.\")\n",
      "TT.COMMA(,)\n",
      "TT.ID(any)\n",
      "TT.ID(x)\n",
      "TT.ARROW(->)\n",
      "TT.ID(error)\n",
      "TT.STRING(\"Expected a boolean value.\")\n",
      "TT.RCURLY(})\n",
      "TT.SEMICOLON(;)\n",
      "TT.DEF(define)\n",
      "TT.ID(main)\n",
      "TT.AS(as)\n",
      "TT.LET(let)\n",
      "TT.ID(not_true)\n",
      "TT.BE(be)\n",
      "TT.ID(not)\n",
      "TT.ID(True)\n",
      "TT.IN(in)\n",
      "TT.ID(print)\n",
      "TT.ID(not_true)\n",
      "TT.SEMICOLON(;)\n",
      "\n",
      "Prog(s=[Req(p='sage.math'), Def(idf='not', e=Map(p=[(Bool(b=True), Bool(b=False)), (Bool(b=False), Bool(b=True)), (Wildcard(idf=TT.ID(x), e=Appl(e1='int?', e2='x')), Appl(e1='error', e2=Str(s='Integer is not valid.'))), (Wildcard(idf=TT.ID(x), e=None), Appl(e1='error', e2=Str(s='Expected a boolean value.')))])), Def(idf='main', e=Let(idf=TT.ID(not_true), e1=Appl(e1='not', e2=Bool(b=True)), e2=Appl(e1='print', e2='not_true')))])\n",
      "\n",
      "{'Pi': 3.1415269, 'not': Map(p=[(Bool(b=True), Bool(b=False)), (Bool(b=False), Bool(b=True)), (Wildcard(idf=TT.ID(x), e=Appl(e1='int?', e2='x')), Appl(e1='error', e2=Str(s='Integer is not valid.'))), (Wildcard(idf=TT.ID(x), e=None), Appl(e1='error', e2=Str(s='Expected a boolean value.')))]), 'main': Let(idf=TT.ID(not_true), e1=Appl(e1='not', e2=Bool(b=True)), e2=Appl(e1='print', e2='not_true'))}\n"
     ]
    }
   ],
   "source": [
    "from sageleaf.syntax import Lexer\n",
    "from sageleaf.semantics import Parser\n",
    "from sageleaf.interpreter import Interpreter\n",
    "\n",
    "code = \"\"\"\n",
    "require \"sage.math\";\n",
    "\n",
    "define not as {\n",
    "  True -> False,\n",
    "  False -> True,\n",
    "  any x where int? x -> error \"Integer is not valid.\",\n",
    "  any x -> error \"Expected a boolean value.\"\n",
    "};\n",
    "\n",
    "define main as\n",
    "  let not_true be not True in\n",
    "    print not_true;\n",
    "\"\"\"\n",
    "\n",
    "lexer = Lexer(code)\n",
    "tokens = lexer.lex()\n",
    "\n",
    "for token in tokens:\n",
    "  print(token)\n",
    "print()\n",
    "\n",
    "parser = Parser(tokens)\n",
    "prog = parser.parse()\n",
    "\n",
    "print(prog)\n",
    "print()\n",
    "\n",
    "interpreter = Interpreter()\n",
    "interpreter.program(prog)\n",
    "\n",
    "print(interpreter._env)\n"
   ]
  }
 ],
 "metadata": {
  "kernelspec": {
   "display_name": "Python 3.10.6 ('venv': venv)",
   "language": "python",
   "name": "python3"
  },
  "language_info": {
   "codemirror_mode": {
    "name": "ipython",
    "version": 3
   },
   "file_extension": ".py",
   "mimetype": "text/x-python",
   "name": "python",
   "nbconvert_exporter": "python",
   "pygments_lexer": "ipython3",
   "version": "3.10.6"
  },
  "orig_nbformat": 4,
  "vscode": {
   "interpreter": {
    "hash": "7573d1c4f6888ca9b4420e81076c50dfa963b84cb78208afa273618f0b1b92e3"
   }
  }
 },
 "nbformat": 4,
 "nbformat_minor": 2
}
