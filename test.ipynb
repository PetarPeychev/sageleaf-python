{
 "cells": [
  {
   "cell_type": "code",
   "execution_count": 11,
   "metadata": {},
   "outputs": [
    {
     "name": "stdout",
     "output_type": "stream",
     "text": [
      "Real(value=33.0)\n"
     ]
    }
   ],
   "source": [
    "from sageleaf.lexer import lex\n",
    "from sageleaf.parser import parse\n",
    "from sageleaf.interpreter import interpret\n",
    "\n",
    "tokens = lex(\"\"\"\n",
    "{\n",
    "    let x: Real = 10;\n",
    "\n",
    "    let y: Real = {\n",
    "        let z: Real = 33;\n",
    "        \n",
    "        z;\n",
    "    };\n",
    "\n",
    "    12.5; \n",
    "\n",
    "    x;\n",
    "    \n",
    "    y;\n",
    "}\n",
    "\"\"\")\n",
    "\n",
    "# for token in tokens:\n",
    "#     print(token)\n",
    "\n",
    "# print()\n",
    "tree = parse(tokens)\n",
    "\n",
    "# print(tree)\n",
    "\n",
    "# print(\"-----------------------------\\n\")\n",
    "interpret(tree)"
   ]
  }
 ],
 "metadata": {
  "kernelspec": {
   "display_name": "Python 3.10.6 ('venv': venv)",
   "language": "python",
   "name": "python3"
  },
  "language_info": {
   "codemirror_mode": {
    "name": "ipython",
    "version": 3
   },
   "file_extension": ".py",
   "mimetype": "text/x-python",
   "name": "python",
   "nbconvert_exporter": "python",
   "pygments_lexer": "ipython3",
   "version": "3.10.6"
  },
  "orig_nbformat": 4,
  "vscode": {
   "interpreter": {
    "hash": "7573d1c4f6888ca9b4420e81076c50dfa963b84cb78208afa273618f0b1b92e3"
   }
  }
 },
 "nbformat": 4,
 "nbformat_minor": 2
}
