{
 "cells": [
  {
   "cell_type": "code",
   "execution_count": 1,
   "metadata": {},
   "outputs": [
    {
     "name": "stdout",
     "output_type": "stream",
     "text": [
      "Prog(stmnts=[Def(idf='main', expr=Let(idf=TT.ID(name), expr1=Str(string='Petar'), expr2=Appl(expr1='print', expr2=Appl(expr1=Appl(expr1='cat', expr2=Str(string='Hello, ')), expr2='name'))))])\n"
     ]
    }
   ],
   "source": [
    "from sageleaf.syntax import Lexer\n",
    "from sageleaf.semantics import Parser\n",
    "\n",
    "code = \"\"\"\n",
    "def main as \n",
    "  let name be \"Petar\" in \n",
    "    print (cat \"Hello, \" name);\n",
    "\"\"\"\n",
    "\n",
    "lexer = Lexer(code)\n",
    "\n",
    "tokens = lexer.lex()\n",
    "\n",
    "# for token in tokens:\n",
    "#   print(token)\n",
    "# print()\n",
    "\n",
    "parser = Parser(tokens)\n",
    "\n",
    "prog = parser.parse()\n",
    "\n",
    "print(prog)"
   ]
  }
 ],
 "metadata": {
  "kernelspec": {
   "display_name": "Python 3.10.6 ('venv': venv)",
   "language": "python",
   "name": "python3"
  },
  "language_info": {
   "codemirror_mode": {
    "name": "ipython",
    "version": 3
   },
   "file_extension": ".py",
   "mimetype": "text/x-python",
   "name": "python",
   "nbconvert_exporter": "python",
   "pygments_lexer": "ipython3",
   "version": "3.10.6"
  },
  "orig_nbformat": 4,
  "vscode": {
   "interpreter": {
    "hash": "7573d1c4f6888ca9b4420e81076c50dfa963b84cb78208afa273618f0b1b92e3"
   }
  }
 },
 "nbformat": 4,
 "nbformat_minor": 2
}
